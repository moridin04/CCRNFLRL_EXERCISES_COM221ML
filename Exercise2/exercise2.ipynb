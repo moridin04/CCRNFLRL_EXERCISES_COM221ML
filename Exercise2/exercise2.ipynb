{
  "nbformat": 4,
  "nbformat_minor": 0,
  "metadata": {
    "colab": {
      "provenance": [],
      "authorship_tag": "ABX9TyPZsqj06XrcWiTFgQerRlSE",
      "include_colab_link": true
    },
    "kernelspec": {
      "name": "python3",
      "display_name": "Python 3"
    },
    "language_info": {
      "name": "python"
    }
  },
  "cells": [
    {
      "cell_type": "markdown",
      "metadata": {
        "id": "view-in-github",
        "colab_type": "text"
      },
      "source": [
        "<a href=\"https://colab.research.google.com/github/moridin04/CCRNFLRL_EXERCISES_COM221ML/blob/main/exercise2.ipynb\" target=\"_parent\"><img src=\"https://colab.research.google.com/assets/colab-badge.svg\" alt=\"Open In Colab\"/></a>"
      ]
    },
    {
      "cell_type": "markdown",
      "source": [
        "**Exercise 2**"
      ],
      "metadata": {
        "id": "xKj8ojKoJZ1N"
      }
    },
    {
      "cell_type": "code",
      "execution_count": 373,
      "metadata": {
        "id": "ec-hTUZo1d3y"
      },
      "outputs": [],
      "source": [
        "from math import sqrt, log\n",
        "import pandas as pd"
      ]
    },
    {
      "cell_type": "markdown",
      "source": [
        "**Step 1: Enter your data**"
      ],
      "metadata": {
        "id": "SQ9-Yqu-KeX0"
      }
    },
    {
      "cell_type": "code",
      "source": [
        "data = pd.DataFrame({\n",
        "    \"Pull\": [1, 2, 3, 4, 5, 6, 7, 8, 9, 10,\n",
        "             11, 12, 13, 14, 15, 16, 17, 18, 19, 20,\n",
        "             21, 22, 23, 24, 25, 26, 27, 28, 29, 30,\n",
        "             31, 32, 33, 34, 35, 36, 37, 38, 39, 40,\n",
        "             41, 42, 43, 44, 45, 46, 47, 48, 49, 50],\n",
        "    \"Machine\": [\"A\", \"B\", \"C\", \"A\", \"B\", \"C\", \"A\", \"A\", \"A\", \"A\",\n",
        "                \"A\", \"A\", \"B\", \"B\", \"B\", \"B\", \"B\", \"B\", \"B\", \"B\",\n",
        "                \"B\", \"B\", \"B\", \"B\", \"B\", \"B\", \"B\", \"B\", \"B\", \"B\",\n",
        "                \"B\", \"B\", \"B\", \"B\", \"B\", \"B\", \"B\", \"B\", \"B\", \"B\",\n",
        "                \"C\", \"C\", \"C\", \"C\", \"C\", \"C\", \"C\", \"C\", \"C\", \"C\"],\n",
        "    \"Reward\": [0, 0, 0, 0, 0, 0, 3, 1, 1, 1,\n",
        "               0, 0, 2, 5, 16, 15, 10, 16, 27, 0,\n",
        "               9, 0, 0, 0, 0, 5, 0, 0, 0, 5,\n",
        "               0, 0, 0, 0, 0, 0, 0, 0, 0, 0,\n",
        "               0, 5, 60, 0, 0, 0, 15, 15, 0, 0]\n",
        "})"
      ],
      "metadata": {
        "id": "tWCfOFfy2D2-"
      },
      "execution_count": 374,
      "outputs": []
    },
    {
      "cell_type": "markdown",
      "source": [
        "**Step 2: Calculate UCB**"
      ],
      "metadata": {
        "id": "wn1y2gQ0KiHk"
      }
    },
    {
      "cell_type": "code",
      "source": [
        "def calculate_ucb(df):\n",
        "    results = []\n",
        "    total_pulls = len(df)\n",
        "    machines = sorted(df[\"Machine\"].unique())\n",
        "\n",
        "    for machine in machines:\n",
        "        machine_data = df[df[\"Machine\"] == machine]\n",
        "        n_j = len(machine_data)\n",
        "        avg_reward = machine_data[\"Reward\"].mean()\n",
        "        exploration_bonus = sqrt((2 * log(total_pulls)) / n_j) if n_j > 0 else float(\"inf\")\n",
        "        ucb_score = avg_reward + exploration_bonus\n",
        "        results.append({\n",
        "            \"Machine\": machine,\n",
        "            \"Pulls\": n_j,\n",
        "            \"Avg Reward\": round(avg_reward, 2),\n",
        "            \"Exploration Bonus\": round(exploration_bonus, 4),\n",
        "            \"UCB Score\": round(ucb_score, 4)\n",
        "        })\n",
        "    return pd.DataFrame(results).sort_values(by=\"UCB Score\", ascending=False)"
      ],
      "metadata": {
        "id": "gaIX-waZ2Hn1"
      },
      "execution_count": 375,
      "outputs": []
    },
    {
      "cell_type": "markdown",
      "source": [
        "**Step 3: Calculate and display**"
      ],
      "metadata": {
        "id": "ogFMZMA0Knh8"
      }
    },
    {
      "cell_type": "code",
      "source": [
        "ucb_table = calculate_ucb(data)\n",
        "print(\"📊 UCB Results Table\")\n",
        "print(ucb_table)"
      ],
      "metadata": {
        "colab": {
          "base_uri": "https://localhost:8080/"
        },
        "id": "Lm2rdsy12KGu",
        "outputId": "a728ac11-b5a0-44f4-c8d0-a077919e77ca"
      },
      "execution_count": 376,
      "outputs": [
        {
          "output_type": "stream",
          "name": "stdout",
          "text": [
            "📊 UCB Results Table\n",
            "  Machine  Pulls  Avg Reward  Exploration Bonus  UCB Score\n",
            "2       C     12        7.92             0.8075     8.7241\n",
            "1       B     30        3.67             0.5107     4.1774\n",
            "0       A      8        0.75             0.9889     1.7389\n"
          ]
        }
      ]
    },
    {
      "cell_type": "markdown",
      "source": [
        "**Step 4: Next machine suggestion**"
      ],
      "metadata": {
        "id": "TNT07IUVKqd8"
      }
    },
    {
      "cell_type": "code",
      "source": [
        "best_machine = ucb_table.iloc[0][\"Machine\"]\n",
        "print(f\"\\n🎯 Recommended next machine to play: {best_machine}\")"
      ],
      "metadata": {
        "colab": {
          "base_uri": "https://localhost:8080/"
        },
        "id": "ovyWdSSH2Mi1",
        "outputId": "34a318a3-5543-4aad-9cfb-a1f8b068f7d6"
      },
      "execution_count": 377,
      "outputs": [
        {
          "output_type": "stream",
          "name": "stdout",
          "text": [
            "\n",
            "🎯 Recommended next machine to play: C\n"
          ]
        }
      ]
    },
    {
      "cell_type": "markdown",
      "source": [
        "**Reflection**\n",
        "\n",
        "Highest reward is timestep 43, from Machine C: 60 credits won.\n",
        "\n",
        "Highest average reward from all machines is 13 from machine C, timestep 43.\n",
        "\n",
        "Highest UCB score is 14.2266, from machine C.\n",
        "\n",
        "Ultimately, out of 50 timesteps, **machine C** is the most profitable."
      ],
      "metadata": {
        "id": "iAITHKbeKuDs"
      }
    }
  ]
}
